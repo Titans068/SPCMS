{
 "cells": [
  {
   "cell_type": "code",
   "execution_count": 1,
   "id": "0c86ba64",
   "metadata": {},
   "outputs": [
    {
     "data": {
      "text/html": [
       "Installing package Newtonsoft.Json, version 13.0.2-beta2.......done!"
      ]
     },
     "metadata": {},
     "output_type": "display_data"
    },
    {
     "ename": "Unhandled Exception",
     "evalue": "No design time or full build available",
     "output_type": "error",
     "traceback": [
      "Unhandled Exception",
      "No design time or full build available",
      "   at WorkspaceServer.Packaging.Package.CreateRoslynWorkspace()",
      "   at WorkspaceServer.Packaging.Package.ProcessFullBuildRequest(Budget budget)",
      "   at WorkspaceServer.Packaging.Package.<SetupWorkspaceCreationFromBuildChannel>b__54_0(Budget budget)",
      "   at WorkspaceServer.Packaging.PackageRestoreContext.CreatePackage(String name)",
      "   at WorkspaceServer.Packaging.PackageRestoreContext.AddPackage(String packageName, String packageVersion)",
      "   at WorkspaceServer.Kernel.CSharpKernelExtensions.<>c__DisplayClass2_1.<<UseNugetDirective>b__2>d.MoveNext()",
      "--- End of stack trace from previous location where exception was thrown ---",
      "   at Microsoft.DotNet.Interactive.Commands.KernelCommandBase.InvokeAsync(KernelInvocationContext context)",
      "   at Microsoft.DotNet.Interactive.KernelBase.HandleInternalAsync(IKernelCommand command, KernelInvocationContext context)",
      "   at Microsoft.DotNet.Interactive.KernelCommandPipeline.<BuildPipeline>b__6_0(IKernelCommand command, KernelInvocationContext context, KernelPipelineContinuation _)",
      "   at Microsoft.DotNet.Interactive.KernelBase.<AddSetKernelMiddleware>b__8_0(IKernelCommand command, KernelInvocationContext context, KernelPipelineContinuation next)",
      "   at Microsoft.DotNet.Interactive.KernelCommandPipeline.SendAsync(IKernelCommand command, KernelInvocationContext context)"
     ]
    }
   ],
   "source": [
    "#r \"nuget: Newtonsoft.Json, 13.0.2-beta2\"\n",
    "using Newtonsoft.Json.Linq;"
   ]
  },
  {
   "cell_type": "code",
   "execution_count": 4,
   "id": "46ad6136",
   "metadata": {},
   "outputs": [],
   "source": [
    "using System.IO;\n",
    "using System.Text;"
   ]
  },
  {
   "cell_type": "code",
   "execution_count": 11,
   "id": "17235f5a",
   "metadata": {},
   "outputs": [
    {
     "data": {
      "text/html": [
       "<table><thead><tr><th><i>index</i></th><th>value</th></tr></thead><tbody><tr><td>0</td><td>115</td></tr><tr><td>1</td><td>97</td></tr><tr><td>2</td><td>105</td></tr><tr><td>3</td><td>110</td></tr><tr><td>4</td><td>116</td></tr><tr><td>5</td><td>115</td></tr><tr><td>6</td><td>109</td></tr><tr><td>7</td><td>97</td></tr><tr><td>8</td><td>114</td></tr><tr><td>9</td><td>99</td></tr><tr><td>10</td><td>104</td></tr><tr><td>11</td><td>105</td></tr><tr><td>12</td><td>110</td></tr><tr><td>13</td><td>103</td></tr><tr><td>14</td><td>105</td></tr><tr><td>15</td><td>110</td></tr></tbody></table>"
      ]
     },
     "execution_count": 11,
     "metadata": {},
     "output_type": "execute_result"
    }
   ],
   "source": [
    "Encoding.UTF8.GetBytes(JObject.Parse(File.ReadAllText(\"appsettings.json\"))[\"key\"].ToString())"
   ]
  },
  {
   "cell_type": "code",
   "execution_count": 13,
   "id": "ec6c11de",
   "metadata": {},
   "outputs": [
    {
     "data": {
      "text/html": [
       "<table><thead><tr><th><i>index</i></th><th>value</th></tr></thead><tbody><tr><td>0</td><td>s</td></tr><tr><td>1</td><td>a</td></tr><tr><td>2</td><td>i</td></tr><tr><td>3</td><td>n</td></tr><tr><td>4</td><td>t</td></tr><tr><td>5</td><td>s</td></tr><tr><td>6</td><td>m</td></tr><tr><td>7</td><td>a</td></tr><tr><td>8</td><td>r</td></tr><tr><td>9</td><td>c</td></tr><tr><td>10</td><td>h</td></tr><tr><td>11</td><td>i</td></tr><tr><td>12</td><td>n</td></tr><tr><td>13</td><td>g</td></tr><tr><td>14</td><td>i</td></tr><tr><td>15</td><td>n</td></tr></tbody></table>"
      ]
     },
     "execution_count": 13,
     "metadata": {},
     "output_type": "execute_result"
    }
   ],
   "source": [
    "JObject.Parse(File.ReadAllText(\"appsettings.json\"))[\"key\"].ToString().ToCharArray()"
   ]
  }
 ],
 "metadata": {
  "kernelspec": {
   "display_name": ".NET (C#)",
   "language": "C#",
   "name": ".net-csharp"
  },
  "language_info": {
   "file_extension": ".cs",
   "mimetype": "text/x-csharp",
   "name": "C#",
   "pygments_lexer": "csharp",
   "version": "8.0"
  }
 },
 "nbformat": 4,
 "nbformat_minor": 5
}
