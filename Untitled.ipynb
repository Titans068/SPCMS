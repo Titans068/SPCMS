{
  "cells": [
    {
      "cell_type": "code",
      "execution_count": 1,
      "metadata": {
        "dotnet_interactive": {
          "language": "csharp"
        },
        "vscode": {
          "languageId": "csharp"
        }
      },
      "outputs": [
        {
          "data": {
            "text/html": [
              "<div><div></div><div></div><div><strong>Installed Packages</strong><ul><li><span>Newtonsoft.Json, 13.0.2-beta2</span></li></ul></div></div>"
            ]
          },
          "execution_count": 1,
          "metadata": {},
          "output_type": "execute_result"
        }
      ],
      "source": [
        "#r \"nuget: Newtonsoft.Json, 13.0.2-beta2\""
      ]
    },
    {
      "cell_type": "code",
      "execution_count": 1,
      "metadata": {
        "dotnet_interactive": {
          "language": "csharp"
        },
        "vscode": {
          "languageId": "csharp"
        }
      },
      "outputs": [],
      "source": [
        "using Newtonsoft.Json.Linq;"
      ]
    },
    {
      "cell_type": "code",
      "execution_count": 1,
      "metadata": {
        "dotnet_interactive": {
          "language": "csharp"
        },
        "vscode": {
          "languageId": "csharp"
        }
      },
      "outputs": [],
      "source": [
        "using System;\n",
        "using System.IO;\n",
        "using System.Text;"
      ]
    },
    {
      "cell_type": "code",
      "execution_count": 1,
      "metadata": {
        "dotnet_interactive": {
          "language": "csharp"
        },
        "vscode": {
          "languageId": "csharp"
        }
      },
      "outputs": [
        {
          "data": {
            "text/html": [
              "<table><thead><tr><th><i>index</i></th><th>value</th></tr></thead><tbody><tr><td>0</td><td><div class=\"dni-plaintext\">115</div></td></tr><tr><td>1</td><td><div class=\"dni-plaintext\">97</div></td></tr><tr><td>2</td><td><div class=\"dni-plaintext\">105</div></td></tr><tr><td>3</td><td><div class=\"dni-plaintext\">110</div></td></tr><tr><td>4</td><td><div class=\"dni-plaintext\">116</div></td></tr><tr><td>5</td><td><div class=\"dni-plaintext\">115</div></td></tr><tr><td>6</td><td><div class=\"dni-plaintext\">109</div></td></tr><tr><td>7</td><td><div class=\"dni-plaintext\">97</div></td></tr><tr><td>8</td><td><div class=\"dni-plaintext\">114</div></td></tr><tr><td>9</td><td><div class=\"dni-plaintext\">99</div></td></tr><tr><td>10</td><td><div class=\"dni-plaintext\">104</div></td></tr><tr><td>11</td><td><div class=\"dni-plaintext\">105</div></td></tr><tr><td>12</td><td><div class=\"dni-plaintext\">110</div></td></tr><tr><td>13</td><td><div class=\"dni-plaintext\">103</div></td></tr><tr><td>14</td><td><div class=\"dni-plaintext\">105</div></td></tr><tr><td>15</td><td><div class=\"dni-plaintext\">110</div></td></tr></tbody></table>"
            ]
          },
          "execution_count": 1,
          "metadata": {},
          "output_type": "execute_result"
        }
      ],
      "source": [
        "Encoding.UTF8.GetBytes(JObject.Parse(File.ReadAllText(\"appsettings.json\"))[\"key\"].ToString())"
      ]
    },
    {
      "cell_type": "code",
      "execution_count": 1,
      "metadata": {
        "dotnet_interactive": {
          "language": "csharp"
        },
        "vscode": {
          "languageId": "csharp"
        }
      },
      "outputs": [
        {
          "data": {
            "text/html": [
              "<table><thead><tr><th><i>index</i></th><th>value</th></tr></thead><tbody><tr><td>0</td><td><div class=\"dni-plaintext\">s</div></td></tr><tr><td>1</td><td><div class=\"dni-plaintext\">a</div></td></tr><tr><td>2</td><td><div class=\"dni-plaintext\">i</div></td></tr><tr><td>3</td><td><div class=\"dni-plaintext\">n</div></td></tr><tr><td>4</td><td><div class=\"dni-plaintext\">t</div></td></tr><tr><td>5</td><td><div class=\"dni-plaintext\">s</div></td></tr><tr><td>6</td><td><div class=\"dni-plaintext\">m</div></td></tr><tr><td>7</td><td><div class=\"dni-plaintext\">a</div></td></tr><tr><td>8</td><td><div class=\"dni-plaintext\">r</div></td></tr><tr><td>9</td><td><div class=\"dni-plaintext\">c</div></td></tr><tr><td>10</td><td><div class=\"dni-plaintext\">h</div></td></tr><tr><td>11</td><td><div class=\"dni-plaintext\">i</div></td></tr><tr><td>12</td><td><div class=\"dni-plaintext\">n</div></td></tr><tr><td>13</td><td><div class=\"dni-plaintext\">g</div></td></tr><tr><td>14</td><td><div class=\"dni-plaintext\">i</div></td></tr><tr><td>15</td><td><div class=\"dni-plaintext\">n</div></td></tr></tbody></table>"
            ]
          },
          "execution_count": 1,
          "metadata": {},
          "output_type": "execute_result"
        }
      ],
      "source": [
        "JObject.Parse(File.ReadAllText(\"appsettings.json\"))[\"key\"].ToString().ToCharArray()"
      ]
    },
    {
      "cell_type": "code",
      "execution_count": 1,
      "metadata": {
        "dotnet_interactive": {
          "language": "csharp"
        },
        "vscode": {
          "languageId": "csharp"
        }
      },
      "outputs": [
        {
          "data": {
            "text/html": [
              "<div class=\"dni-plaintext\">24</div>"
            ]
          },
          "execution_count": 1,
          "metadata": {},
          "output_type": "execute_result"
        }
      ],
      "source": [
        "if (true && (true | false))\n",
        "{\n",
        "\tdisplay(float.Parse(\"24.0\"));\n",
        "}"
      ]
    },
    {
      "cell_type": "code",
      "execution_count": 5,
      "metadata": {
        "dotnet_interactive": {
          "language": "csharp"
        },
        "vscode": {
          "languageId": "csharp"
        }
      },
      "outputs": [
        {
          "data": {
            "text/html": [
              "<table><thead><tr><th><i>index</i></th><th>value</th></tr></thead><tbody><tr><td>0</td><td>0</td></tr><tr><td>1</td><td>0</td></tr><tr><td>2</td><td>0</td></tr><tr><td>3</td><td>0</td></tr><tr><td>4</td><td>0</td></tr><tr><td>5</td><td>0</td></tr><tr><td>6</td><td>0</td></tr><tr><td>7</td><td>0</td></tr><tr><td>8</td><td>0</td></tr><tr><td>9</td><td>0</td></tr><tr><td>10</td><td>0</td></tr><tr><td>11</td><td>0</td></tr><tr><td>12</td><td>0</td></tr><tr><td>13</td><td>0</td></tr><tr><td>14</td><td>0</td></tr><tr><td>15</td><td>0</td></tr><tr><td>16</td><td>0</td></tr><tr><td>17</td><td>0</td></tr><tr><td>18</td><td>0</td></tr><tr><td>19</td><td>0</td></tr></tbody></table>"
            ]
          },
          "execution_count": 5,
          "metadata": {},
          "output_type": "execute_result"
        }
      ],
      "source": [
        "Enumerable.Repeat(0x0, 20).ToArray()"
      ]
    }
  ],
  "metadata": {
    "kernelspec": {
      "display_name": ".NET (C#)",
      "language": "C#",
      "name": ".net-csharp"
    },
    "language_info": {
      "file_extension": ".cs",
      "mimetype": "text/x-csharp",
      "name": "C#",
      "pygments_lexer": "csharp",
      "version": "8.0"
    }
  },
  "nbformat": 4,
  "nbformat_minor": 4
}
